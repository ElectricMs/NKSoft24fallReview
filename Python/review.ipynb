{
 "cells": [
  {
   "cell_type": "code",
   "execution_count": 2,
   "metadata": {},
   "outputs": [
    {
     "name": "stdout",
     "output_type": "stream",
     "text": [
      "[786, 2.23]\n",
      "[123, 'john', 123, 'john']\n"
     ]
    }
   ],
   "source": [
    "list = [ 'abcd', 786 , 2.23, 'john', 70.2 ]\n",
    "print(list[1:3]) # [786,2.23]\n",
    "tinylist = [123, 'john']\n",
    "print(tinylist * 2) # [123, 'john', 123, 'john']"
   ]
  },
  {
   "cell_type": "code",
   "execution_count": 3,
   "metadata": {},
   "outputs": [
    {
     "name": "stdout",
     "output_type": "stream",
     "text": [
      "1\n",
      "2\n",
      "2\n",
      "4\n",
      "2\n",
      "[1, 3, 4, 2]\n"
     ]
    }
   ],
   "source": [
    "nums=[1,2,2,2,3,4,2]\n",
    "for num in nums:\n",
    "    print(num)\n",
    "    if num==2:\n",
    "        nums.remove(2)\n",
    "print(nums)"
   ]
  },
  {
   "cell_type": "code",
   "execution_count": 19,
   "metadata": {},
   "outputs": [
    {
     "name": "stdout",
     "output_type": "stream",
     "text": [
      "None\n",
      "[1, 2, 3, 4]\n",
      "[1, 2, 3, 4]\n",
      "[2, 4, 1, 3]\n"
     ]
    }
   ],
   "source": [
    "s = [2, 4, 1, 3]\n",
    "a = s.sort()\n",
    "print(a) # None\n",
    "print(s) # [1, 2, 3, 4]\n",
    "\n",
    "s = [2, 4, 1, 3]\n",
    "b = sorted(s)\n",
    "print(b) # [1, 2, 3, 4]\n",
    "print(s) # [2, 4, 1, 3]"
   ]
  },
  {
   "cell_type": "code",
   "execution_count": 20,
   "metadata": {},
   "outputs": [
    {
     "name": "stdout",
     "output_type": "stream",
     "text": [
      "3\n"
     ]
    }
   ],
   "source": [
    "x = ['11','2','3']\n",
    "print(max(x))"
   ]
  },
  {
   "cell_type": "code",
   "execution_count": 5,
   "metadata": {},
   "outputs": [
    {
     "name": "stdout",
     "output_type": "stream",
     "text": [
      "hello world\n"
     ]
    }
   ],
   "source": [
    "x = \"hello world\"\n",
    "x.replace(\"hello\", \"hi\")\n",
    "print(x)"
   ]
  },
  {
   "cell_type": "code",
   "execution_count": 23,
   "metadata": {},
   "outputs": [
    {
     "name": "stdout",
     "output_type": "stream",
     "text": [
      "('apple', 'banana', 'orange')\n",
      "0: apple\n",
      "1: banana\n",
      "2: orange\n"
     ]
    },
    {
     "data": {
      "text/plain": [
       "'\\n0: apple\\n1: banana\\n2: orange\\n'"
      ]
     },
     "execution_count": 23,
     "metadata": {},
     "output_type": "execute_result"
    }
   ],
   "source": [
    "def print_everything(*args, vegetables = 'cabbage'):\n",
    "    for count, thing in enumerate(args):\n",
    "        print('{0}: {1}'.format(count, thing))\n",
    "\n",
    "print_everything('apple', 'banana', 'orange')\n",
    "\"\"\"\n",
    "0: apple\n",
    "1: banana\n",
    "2: orange\n",
    "\"\"\""
   ]
  },
  {
   "cell_type": "code",
   "execution_count": 3,
   "metadata": {},
   "outputs": [
    {
     "name": "stdout",
     "output_type": "stream",
     "text": [
      "2\n",
      "4\n",
      "6\n",
      "b'\\xe4\\xb8\\xad\\xe6\\x96\\x87'\n",
      "6\n"
     ]
    }
   ],
   "source": [
    "print(len(\"中文\")) # 2\n",
    "print(len(b\"abcd\")) # 4\n",
    "print(len(b\"\\xe4\\xb8\\xad\\xe6\\x96\\x87\")) # 6\n",
    "print(\"中文\".encode(\"utf-8\")) # b'\\xe4\\xb8\\xad\\xe6\\x96\\x87'\n",
    "print(len(\"中文\".encode(\"utf-8\"))) # 6"
   ]
  },
  {
   "cell_type": "code",
   "execution_count": 9,
   "metadata": {},
   "outputs": [
    {
     "name": "stdout",
     "output_type": "stream",
     "text": [
      "ebcd\n"
     ]
    },
    {
     "ename": "TypeError",
     "evalue": "'str' object does not support item assignment",
     "output_type": "error",
     "traceback": [
      "\u001b[1;31m---------------------------------------------------------------------------\u001b[0m",
      "\u001b[1;31mTypeError\u001b[0m                                 Traceback (most recent call last)",
      "Cell \u001b[1;32mIn[9], line 4\u001b[0m\n\u001b[0;32m      2\u001b[0m a \u001b[38;5;241m=\u001b[39m \u001b[38;5;124m'\u001b[39m\u001b[38;5;124me\u001b[39m\u001b[38;5;124m'\u001b[39m \u001b[38;5;241m+\u001b[39m a[\u001b[38;5;241m1\u001b[39m:]\n\u001b[0;32m      3\u001b[0m \u001b[38;5;28mprint\u001b[39m(a) \u001b[38;5;66;03m# ebcd\u001b[39;00m\n\u001b[1;32m----> 4\u001b[0m \u001b[43ma\u001b[49m\u001b[43m[\u001b[49m\u001b[38;5;241;43m0\u001b[39;49m\u001b[43m]\u001b[49m \u001b[38;5;241m=\u001b[39m \u001b[38;5;124m'\u001b[39m\u001b[38;5;124mf\u001b[39m\u001b[38;5;124m'\u001b[39m \u001b[38;5;66;03m# TypeError: 'str' object does not support item assignment\u001b[39;00m\n",
      "\u001b[1;31mTypeError\u001b[0m: 'str' object does not support item assignment"
     ]
    }
   ],
   "source": [
    "a = \"abcd\"\n",
    "a = 'e' + a[1:]\n",
    "print(a) # ebcd\n",
    "a[0] = 'f' # TypeError: 'str' object does not support item assignment"
   ]
  },
  {
   "cell_type": "code",
   "execution_count": 4,
   "metadata": {},
   "outputs": [
    {
     "name": "stdout",
     "output_type": "stream",
     "text": [
      "20 10\n"
     ]
    }
   ],
   "source": [
    "# 与c语言不同的赋值方式\n",
    "a = 10\n",
    "b = a\n",
    "a = 20\n",
    "print(a, b) # 20 10\n",
    "# 整数是不可变对象。a 修改后，不会影响 b 的值"
   ]
  },
  {
   "cell_type": "code",
   "execution_count": 13,
   "metadata": {},
   "outputs": [
    {
     "name": "stdout",
     "output_type": "stream",
     "text": [
      "abcabcabc\n",
      "-1\n",
      "[1, 2, 3, 4, 5, 6]\n"
     ]
    }
   ],
   "source": [
    "print(3*'abc')\n",
    "# print(1+'a')\n",
    "print(-10%-3)\n",
    "print([1,2,3]+[4,5,6])"
   ]
  },
  {
   "cell_type": "code",
   "execution_count": 15,
   "metadata": {},
   "outputs": [
    {
     "name": "stdout",
     "output_type": "stream",
     "text": [
      "[(1, 'a'), (2, 'b'), (3, 'c')]\n",
      "{}\n",
      "{1: 'a', 2: 'b', 3: 'c'}\n"
     ]
    }
   ],
   "source": [
    "list1 = [1, 2, 3]\n",
    "list2 = ['a', 'b', 'c']\n",
    "\n",
    "result = zip(list1, list2)\n",
    "print(list(result))  # [(1, 'a'), (2, 'b'), (3, 'c')]\n",
    "print(dict(result))  # {}\n",
    "print(dict(zip(list1, list2))) # {1: 'a', 2: 'b', 3: 'c'}"
   ]
  },
  {
   "cell_type": "code",
   "execution_count": 16,
   "metadata": {},
   "outputs": [
    {
     "name": "stdout",
     "output_type": "stream",
     "text": [
      "[[1], [1], [1]]\n",
      "[[5], [5], [5]]\n"
     ]
    }
   ],
   "source": [
    "x = [[1]]*3\n",
    "print(x) # [[1], [1], [1]]\n",
    "x[0][0]=5\n",
    "print(x) # [[5], [5], [5]]\n",
    "# 这些子列表是同一个对象的引用，即所有的 [1] 指向同一块内存"
   ]
  },
  {
   "cell_type": "code",
   "execution_count": 15,
   "metadata": {},
   "outputs": [
    {
     "name": "stdout",
     "output_type": "stream",
     "text": [
      "['a']\n",
      "['a', 'b']\n",
      "['c']\n",
      "['a', 'b', 'd']\n"
     ]
    }
   ],
   "source": [
    "def buggy(arg, result = []):\n",
    "    result.append(arg)\n",
    "    print(result)\n",
    "    \n",
    "buggy('a') # ['a']\n",
    "buggy('b') # ['a', 'b']\n",
    "buggy('c', []) # ['c']\n",
    "buggy('d') # ['a', 'b', 'd']\n",
    "\n",
    "# 默认参数只在函数定义时计算一次，如果参数是可变对象（如列表、字典等），它会在后续的函数调用之间共享\n",
    "# 如果默认参数是不可变对象则不会遇到类似可变对象的共享问题\n",
    "# 每次调用函数时，Python 会为每次调用创建一个新的不可变对象，而不会出现多个函数调用之间共享同一个对象的情况"
   ]
  },
  {
   "cell_type": "code",
   "execution_count": 18,
   "metadata": {},
   "outputs": [
    {
     "name": "stdout",
     "output_type": "stream",
     "text": [
      "name: Alice\n",
      "age: 30\n"
     ]
    }
   ],
   "source": [
    "def print_info(**info):\n",
    "    for key, value in info.items():\n",
    "        print(f\"{key}: {value}\")\n",
    "\n",
    "print_info(name=\"Alice\", age=30)"
   ]
  },
  {
   "cell_type": "code",
   "execution_count": 19,
   "metadata": {},
   "outputs": [
    {
     "name": "stdout",
     "output_type": "stream",
     "text": [
      "name: Jack age: 23 other: {}\n",
      "name: Alice age: 25 other: {'city': 'Beijing', 'job': 'Engineer'}\n"
     ]
    }
   ],
   "source": [
    "def person(name, age, **kwargs):\n",
    "    print('name:', name, 'age:', age, 'other:', kwargs)\n",
    "\n",
    "person('Jack', 23)\n",
    "person('Alice', 25, city='Beijing', job='Engineer')"
   ]
  },
  {
   "cell_type": "code",
   "execution_count": 24,
   "metadata": {},
   "outputs": [
    {
     "name": "stdout",
     "output_type": "stream",
     "text": [
      "name: Eric age: 25 other: {'city': 'Beijing', 'job': 'Engineer'}\n",
      "city job\n"
     ]
    }
   ],
   "source": [
    "extra = {'city': 'Beijing', 'job': 'Engineer'}\n",
    "person('Eric', 25, **extra)\n",
    "print(*extra)"
   ]
  },
  {
   "cell_type": "code",
   "execution_count": 1,
   "metadata": {},
   "outputs": [
    {
     "name": "stdout",
     "output_type": "stream",
     "text": [
      "4\n",
      "8\n"
     ]
    }
   ],
   "source": [
    "def nth_power(exponent):\n",
    "    def exponent_of(base):\n",
    "        return base ** exponent\n",
    "    return exponent_of\n",
    "\n",
    "square = nth_power(2)\n",
    "cube = nth_power(3)\n",
    "print(square(2)) # 4\n",
    "print(cube(2)) # 8"
   ]
  },
  {
   "cell_type": "code",
   "execution_count": 9,
   "metadata": {},
   "outputs": [
    {
     "name": "stdout",
     "output_type": "stream",
     "text": [
      "11\n",
      "11\n",
      "12\n",
      "13\n"
     ]
    }
   ],
   "source": [
    "def deco():\n",
    "    age = 10\n",
    "    def wrapper():\n",
    "        nonlocal age # 声明 age 为非局部变量\n",
    "        age += 1\n",
    "        print(age)\n",
    "    return wrapper\n",
    "\n",
    "deco()()  # 输出 11\n",
    "\n",
    "# 存储返回的 wrapper 函数\n",
    "increment_age = deco()\n",
    "\n",
    "# 每次调用 increment_age，age 都会在上一次的基础上 +1\n",
    "increment_age()  # 输出 11\n",
    "increment_age()  # 输出 12\n",
    "increment_age()  # 输出 13"
   ]
  },
  {
   "cell_type": "code",
   "execution_count": 11,
   "metadata": {},
   "outputs": [
    {
     "name": "stdout",
     "output_type": "stream",
     "text": [
      "10\n"
     ]
    }
   ],
   "source": [
    "def deco():\n",
    "    age = 10\n",
    "    def wrapper():\n",
    "        print(age)\n",
    "    return wrapper\n",
    "\n",
    "deco()()  # 输出 10"
   ]
  },
  {
   "cell_type": "code",
   "execution_count": 12,
   "metadata": {},
   "outputs": [
    {
     "name": "stdout",
     "output_type": "stream",
     "text": [
      "[1, 4, 9, 16]\n",
      "[2, 4]\n",
      "24\n",
      "[('Judy', 88), ('Mike', 75), ('Cris', 57)]\n"
     ]
    }
   ],
   "source": [
    "# 使用 map() 和 lambda 将列表中的每个元素平方\n",
    "numbers = [1, 2, 3, 4]\n",
    "squared = list(map(lambda x: x**2, numbers))\n",
    "print(squared)  # 输出: [1, 4, 9, 16]\n",
    "\n",
    "# 使用 filter() 和 lambda 筛选出偶数\n",
    "even_numbers = list(filter(lambda x: x % 2 == 0, numbers))\n",
    "print(even_numbers)  # 输出: [2, 4]\n",
    "\n",
    "# 使用 reduce() 和 lambda 计算列表元素的乘积 (需从 functools 导入)\n",
    "from functools import reduce\n",
    "product = reduce(lambda x, y: x * y, numbers)\n",
    "print(product)  # 输出: 24\n",
    "\n",
    "# 按照字典项的值进行排序\n",
    "exam_res = {'Mike': 75, 'Judy': 88, 'Cris': 57}\n",
    "sorted_items = sorted(exam_res.items(), key=lambda item: item[1], reverse=True)\n",
    "print(sorted_items)  # 输出: [('Judy', 88), ('Mike', 75), ('Cris', 57)]"
   ]
  },
  {
   "cell_type": "code",
   "execution_count": 14,
   "metadata": {},
   "outputs": [
    {
     "name": "stdout",
     "output_type": "stream",
     "text": [
      "[1, 4, 9, 16]\n",
      "<class 'map'>\n"
     ]
    }
   ],
   "source": [
    "# 使用 map() 和 lambda 将列表中的每个元素平方\n",
    "numbers = [1, 2, 3, 4]\n",
    "squared = list(map(lambda x: x**2, numbers))\n",
    "print(squared)  # 输出: [1, 4, 9, 16]\n",
    "result = map(lambda x: x**2, numbers)\n",
    "print(type(result))"
   ]
  },
  {
   "cell_type": "markdown",
   "metadata": {},
   "source": [
    "Decorator, Iterator, Generator"
   ]
  },
  {
   "cell_type": "code",
   "execution_count": 16,
   "metadata": {},
   "outputs": [
    {
     "name": "stdout",
     "output_type": "stream",
     "text": [
      "Hello, World!\n"
     ]
    },
    {
     "data": {
      "text/plain": [
       "0.0010173320770263672"
      ]
     },
     "execution_count": 16,
     "metadata": {},
     "output_type": "execute_result"
    }
   ],
   "source": [
    "import time\n",
    "def time_counter(fn):\n",
    "    def wrapper():\n",
    "        start = time.time()\n",
    "        fn()\n",
    "        end = time.time()\n",
    "        return end - start\n",
    "    return wrapper\n",
    "\n",
    "@time_counter\n",
    "def func():\n",
    "    # func = time_counter(func)\n",
    "    print(\"Hello, World!\")\n",
    "\n",
    "func() "
   ]
  },
  {
   "cell_type": "code",
   "execution_count": 2,
   "metadata": {},
   "outputs": [
    {
     "name": "stdout",
     "output_type": "stream",
     "text": [
      "inside Decorator.__init__\n",
      "finished decorating my_func\n",
      "inside my_func 1 2\n",
      "inside Decorator.__call__\n"
     ]
    }
   ],
   "source": [
    "class Decorator:\n",
    "    def __init__(self, func):\n",
    "        print(\"inside Decorator.__init__\")\n",
    "        self.func = func\n",
    "\n",
    "    def __call__(self, *args, **kwargs):\n",
    "        self.func(*args, **kwargs)\n",
    "        print(\"inside Decorator.__call__\")\n",
    "\n",
    "@Decorator\n",
    "def my_func(x, y):\n",
    "    print(\"inside my_func\", x, y)\n",
    "\n",
    "\n",
    "print(\"finished decorating my_func\")\n",
    "my_func(1, 2)"
   ]
  },
  {
   "cell_type": "code",
   "execution_count": 5,
   "metadata": {},
   "outputs": [
    {
     "name": "stdout",
     "output_type": "stream",
     "text": [
      "HELLO WORLD\n",
      "HELLO WORLD\n"
     ]
    }
   ],
   "source": [
    "from functools import wraps\n",
    "\n",
    "def repeat(num_times):\n",
    "    def decorator_repeat(func):\n",
    "        @wraps(func)\n",
    "        def wrapper_repeat(*args, **kwargs):\n",
    "            for _ in range(num_times):\n",
    "                value = func(*args, **kwargs)\n",
    "                print(value)\n",
    "        return wrapper_repeat\n",
    "    return decorator_repeat\n",
    "\n",
    "def uppercase(func):\n",
    "    @wraps(func)\n",
    "    def wrapper_uppercase(*args, **kwargs):\n",
    "        original_result = func(*args, **kwargs)\n",
    "        modified_result = original_result.upper()\n",
    "        return modified_result\n",
    "    return wrapper_uppercase\n",
    "\n",
    "@repeat(num_times=2)\n",
    "@uppercase\n",
    "def say_hello(name):\n",
    "    return f\"hello {name}\"\n",
    "\n",
    "say_hello(\"world\")"
   ]
  },
  {
   "cell_type": "code",
   "execution_count": 6,
   "metadata": {},
   "outputs": [
    {
     "name": "stdout",
     "output_type": "stream",
     "text": [
      "1\n",
      "2\n",
      "3\n",
      "4\n",
      "5\n"
     ]
    }
   ],
   "source": [
    "def count_up_to(max):\n",
    "    count = 1\n",
    "    while count <= max:\n",
    "        yield count\n",
    "        count += 1\n",
    "\n",
    "# 创建生成器对象\n",
    "counter = count_up_to(5)\n",
    "\n",
    "# 使用for循环遍历生成器\n",
    "for num in counter:\n",
    "    print(num)\n",
    "# 输出: 1 2 3 4 5"
   ]
  },
  {
   "cell_type": "code",
   "execution_count": 21,
   "metadata": {},
   "outputs": [
    {
     "name": "stdout",
     "output_type": "stream",
     "text": [
      "[0, 1, 2, 3]\n",
      "[]\n",
      "[]\n"
     ]
    }
   ],
   "source": [
    "def demo():\n",
    "    for i in range(4):\n",
    "        yield i\n",
    "\n",
    "g = demo() # 创建生成器对象，未使用\n",
    "g_a = (i for i in g) # 创建生成器对象，未使用\n",
    "g_b = (i for i in g_a) # 创建生成器对象，未使用\n",
    "\n",
    "print(list(g)) # [0, 1, 2, 3]\n",
    "print(list(g_a)) # []\n",
    "print(list(g_b)) # []"
   ]
  },
  {
   "cell_type": "code",
   "execution_count": 7,
   "metadata": {},
   "outputs": [
    {
     "name": "stdout",
     "output_type": "stream",
     "text": [
      "Execution starts when 'next()' is called for the first time.\n",
      "1\n",
      "*****\n",
      "None\n",
      "*****\n",
      "2\n",
      "spam\n",
      "Don't forget to clean up when 'close()' is called.\n"
     ]
    },
    {
     "name": "stderr",
     "output_type": "stream",
     "text": [
      "C:\\Users\\Extinct\\AppData\\Local\\Temp\\ipykernel_22088\\132288829.py:17: DeprecationWarning: the (type, exc, tb) signature of throw() is deprecated, use the single-arg signature instead.\n",
      "  print(generator.throw(TypeError, \"spam\"))\n"
     ]
    },
    {
     "data": {
      "text/plain": [
       "\"\\nExecution starts when 'next()' is called for the first time.\\n1\\n*****\\nNone\\n*****\\n2\\n*****\\nspam\\nDon't forget to clean up when 'close()' is called.\\n\""
      ]
     },
     "execution_count": 7,
     "metadata": {},
     "output_type": "execute_result"
    }
   ],
   "source": [
    "def echo(value=None):\n",
    "    print(\"Execution starts when 'next()' is called for the first time.\")\n",
    "    try:\n",
    "        while True:\n",
    "            try:\n",
    "                value = (yield value)\n",
    "                print(\"*****\")\n",
    "            except Exception as e:\n",
    "                value = e\n",
    "    finally:\n",
    "        print(\"Don't forget to clean up when 'close()' is called.\")\n",
    "\n",
    "generator = echo(1)\n",
    "print(next(generator))\n",
    "print(next(generator))\n",
    "print(generator.send(2))\n",
    "print(generator.throw(TypeError, \"spam\"))\n",
    "generator.close()\n",
    "\"\"\"\n",
    "Execution starts when 'next()' is called for the first time.\n",
    "1\n",
    "*****\n",
    "None\n",
    "*****\n",
    "2\n",
    "*****\n",
    "spam\n",
    "Don't forget to clean up when 'close()' is called.\n",
    "\"\"\""
   ]
  },
  {
   "cell_type": "markdown",
   "metadata": {},
   "source": [
    "OOP"
   ]
  },
  {
   "cell_type": "code",
   "execution_count": 2,
   "metadata": {},
   "outputs": [
    {
     "name": "stdout",
     "output_type": "stream",
     "text": [
      "10\n",
      "100\n",
      "100\n",
      "60\n",
      "60\n",
      "60\n"
     ]
    }
   ],
   "source": [
    "class Student:\n",
    "    capacity = 10\n",
    "\n",
    "    def __init__(self, name, school):\n",
    "        self.name = name\n",
    "        self.school = school\n",
    "        print(self.capacity)\n",
    "\n",
    "    def practice(self):\n",
    "        print(self.capacity)\n",
    "\n",
    "    @classmethod\n",
    "    def show_capacity(cls):\n",
    "        print(cls.capacity)\n",
    "\n",
    "gj = Student(\"George\", \"MIT\")\n",
    "gj.capacity = 100\n",
    "Student.capacity = 60\n",
    "print(gj.capacity) # 100\n",
    "gj.practice() # 100\n",
    "print(Student.capacity) # 60\n",
    "gj.show_capacity() # 60\n",
    "Student.show_capacity() # 60"
   ]
  },
  {
   "cell_type": "code",
   "execution_count": 3,
   "metadata": {},
   "outputs": [
    {
     "name": "stdout",
     "output_type": "stream",
     "text": [
      "17\n",
      "20\n",
      "This is a private method\n"
     ]
    }
   ],
   "source": [
    "class Person:\n",
    "    def __init__(self, name, age):\n",
    "        self.name = name\n",
    "        self.__age = age\n",
    "\n",
    "    def is_adult(self):\n",
    "        return self.__age >= 18\n",
    "    \n",
    "    def __private_method(self):\n",
    "        print(\"This is a private method\")\n",
    "\n",
    "xh = Person(\"Xiaohong\", 20)\n",
    "xh.__age = 17\n",
    "print(xh.__age)\n",
    "print(xh._Person__age)\n",
    "xh._Person__private_method()\n",
    "# xh.__private_method()\n",
    "# AttributeError: 'Person' object has no attribute '__private_method'"
   ]
  },
  {
   "cell_type": "code",
   "execution_count": 6,
   "metadata": {},
   "outputs": [
    {
     "ename": "TypeError",
     "evalue": "Cannot create a consistent method resolution\norder (MRO) for bases F, E",
     "output_type": "error",
     "traceback": [
      "\u001b[1;31m---------------------------------------------------------------------------\u001b[0m",
      "\u001b[1;31mTypeError\u001b[0m                                 Traceback (most recent call last)",
      "Cell \u001b[1;32mIn[6], line 7\u001b[0m\n\u001b[0;32m      4\u001b[0m \u001b[38;5;28;01mclass\u001b[39;00m \u001b[38;5;21;01mE\u001b[39;00m(F):\n\u001b[0;32m      5\u001b[0m     \u001b[38;5;28;01mpass\u001b[39;00m\n\u001b[1;32m----> 7\u001b[0m \u001b[38;5;28;43;01mclass\u001b[39;49;00m\u001b[43m \u001b[49m\u001b[38;5;21;43;01mG\u001b[39;49;00m\u001b[43m(\u001b[49m\u001b[43mF\u001b[49m\u001b[43m,\u001b[49m\u001b[43m \u001b[49m\u001b[43mE\u001b[49m\u001b[43m)\u001b[49m\u001b[43m:\u001b[49m\n\u001b[0;32m      8\u001b[0m \u001b[43m    \u001b[49m\u001b[38;5;28;43;01mpass\u001b[39;49;00m\n\u001b[0;32m     10\u001b[0m \u001b[38;5;28mprint\u001b[39m(G\u001b[38;5;241m.\u001b[39m\u001b[38;5;18m__mro__\u001b[39m)\n",
      "\u001b[1;31mTypeError\u001b[0m: Cannot create a consistent method resolution\norder (MRO) for bases F, E"
     ]
    }
   ],
   "source": [
    "class F:\n",
    "    pass\n",
    "\n",
    "class E(F):\n",
    "    pass\n",
    "\n",
    "class G(F, E):\n",
    "    pass\n",
    "\n",
    "print(G.__mro__)\n",
    "# TypeError: Cannot create a consistent method resolution order (MRO) for bases F, E"
   ]
  },
  {
   "cell_type": "code",
   "execution_count": 14,
   "metadata": {},
   "outputs": [
    {
     "name": "stdout",
     "output_type": "stream",
     "text": [
      "A <__main__.C object at 0x00000203B638DE50>\n",
      "A <__main__.C object at 0x00000203B638DE50>\n",
      "B <__main__.C object at 0x00000203B638DE50>\n"
     ]
    },
    {
     "data": {
      "text/plain": [
       "''"
      ]
     },
     "execution_count": 14,
     "metadata": {},
     "output_type": "execute_result"
    }
   ],
   "source": [
    "class A:\n",
    "    def test(self):\n",
    "        print('A', self)\n",
    "\n",
    "class B:\n",
    "    def test(self):\n",
    "        print('B', self)\n",
    "\n",
    "class C(A, B):\n",
    "    def test(self):\n",
    "        super().test()\n",
    "        super(C, self).test()\n",
    "        super(A, self).test()\n",
    "\n",
    "C().test()\n",
    "\"\"\"\n",
    "A <__main__.C object at 0x00000203B638DE50>\n",
    "A <__main__.C object at 0x00000203B638DE50>\n",
    "B <__main__.C object at 0x00000203B638DE50>\n",
    "\"\"\"\n"
   ]
  },
  {
   "cell_type": "code",
   "execution_count": 15,
   "metadata": {},
   "outputs": [
    {
     "name": "stdout",
     "output_type": "stream",
     "text": [
      "enter C\n",
      "enter A\n",
      "enter B\n",
      "enter Base\n",
      "leave Base\n",
      "leave B\n",
      "leave A\n",
      "leave C\n"
     ]
    }
   ],
   "source": [
    "class Base():\n",
    "    def __init__(self):\n",
    "        print(\"enter Base\")\n",
    "        print(\"leave Base\")\n",
    "\n",
    "class A(Base):\n",
    "    def __init__(self):\n",
    "        print(\"enter A\")\n",
    "        super().__init__()\n",
    "        print(\"leave A\")\n",
    "\n",
    "class B(Base):\n",
    "    def __init__(self):\n",
    "        print(\"enter B\")\n",
    "        super().__init__()\n",
    "        print(\"leave B\")\n",
    "\n",
    "class C(A, B):\n",
    "    def __init__(self):\n",
    "        print(\"enter C\")\n",
    "        super().__init__()\n",
    "        print(\"leave C\")\n",
    "\n",
    "c = C()\n",
    "\"\"\"\n",
    "enter C\n",
    "enter A\n",
    "enter B\n",
    "enter Base\n",
    "leave Base\n",
    "leave B\n",
    "leave A\n",
    "leave C\n",
    "\"\"\""
   ]
  },
  {
   "cell_type": "code",
   "execution_count": 17,
   "metadata": {},
   "outputs": [
    {
     "name": "stdout",
     "output_type": "stream",
     "text": [
      "AliPay pays 100\n"
     ]
    },
    {
     "ename": "NotImplementedError",
     "evalue": "",
     "output_type": "error",
     "traceback": [
      "\u001b[1;31m---------------------------------------------------------------------------\u001b[0m",
      "\u001b[1;31mNotImplementedError\u001b[0m                       Traceback (most recent call last)",
      "Cell \u001b[1;32mIn[17], line 16\u001b[0m\n\u001b[0;32m     13\u001b[0m     obj\u001b[38;5;241m.\u001b[39mpay(money)\n\u001b[0;32m     15\u001b[0m scan(AliPay(), \u001b[38;5;241m100\u001b[39m)\n\u001b[1;32m---> 16\u001b[0m \u001b[43mscan\u001b[49m\u001b[43m(\u001b[49m\u001b[43mApplepay\u001b[49m\u001b[43m(\u001b[49m\u001b[43m)\u001b[49m\u001b[43m,\u001b[49m\u001b[43m \u001b[49m\u001b[38;5;241;43m200\u001b[39;49m\u001b[43m)\u001b[49m\n",
      "Cell \u001b[1;32mIn[17], line 13\u001b[0m, in \u001b[0;36mscan\u001b[1;34m(obj, money)\u001b[0m\n\u001b[0;32m     12\u001b[0m \u001b[38;5;28;01mdef\u001b[39;00m \u001b[38;5;21mscan\u001b[39m(obj, money):\n\u001b[1;32m---> 13\u001b[0m     \u001b[43mobj\u001b[49m\u001b[38;5;241;43m.\u001b[39;49m\u001b[43mpay\u001b[49m\u001b[43m(\u001b[49m\u001b[43mmoney\u001b[49m\u001b[43m)\u001b[49m\n",
      "Cell \u001b[1;32mIn[17], line 3\u001b[0m, in \u001b[0;36mPayment.pay\u001b[1;34m(self, money)\u001b[0m\n\u001b[0;32m      2\u001b[0m \u001b[38;5;28;01mdef\u001b[39;00m \u001b[38;5;21mpay\u001b[39m(\u001b[38;5;28mself\u001b[39m, money):\n\u001b[1;32m----> 3\u001b[0m     \u001b[38;5;28;01mraise\u001b[39;00m \u001b[38;5;167;01mNotImplementedError\u001b[39;00m\n",
      "\u001b[1;31mNotImplementedError\u001b[0m: "
     ]
    }
   ],
   "source": [
    "class Payment:\n",
    "    def pay(self, money):\n",
    "        raise NotImplementedError\n",
    "    \n",
    "class AliPay(Payment):\n",
    "    def pay(self, money):\n",
    "        print(\"AliPay pays\", money)\n",
    "        \n",
    "class Applepay(Payment):\n",
    "    pass\n",
    "\n",
    "def scan(obj, money):\n",
    "    obj.pay(money)\n",
    "\n",
    "scan(AliPay(), 100)\n",
    "scan(Applepay(), 200)"
   ]
  },
  {
   "cell_type": "code",
   "execution_count": 18,
   "metadata": {},
   "outputs": [
    {
     "name": "stdout",
     "output_type": "stream",
     "text": [
      "AliPay pays 100\n",
      "WeChatPay pays 200\n"
     ]
    }
   ],
   "source": [
    "from abc import ABC, abstractmethod\n",
    "\n",
    "class Payment(ABC):\n",
    "    @abstractmethod\n",
    "    def pay(self, money):\n",
    "        pass\n",
    "\n",
    "class AliPay(Payment):\n",
    "    def pay(self, money):\n",
    "        print(\"AliPay pays\", money)\n",
    "\n",
    "class WeChatPay(Payment):\n",
    "    def pay(self, money):\n",
    "        print(\"WeChatPay pays\", money)\n",
    "\n",
    "def scan(obj, money):\n",
    "    obj.pay(money)\n",
    "\n",
    "scan(AliPay(), 100)\n",
    "scan(WeChatPay(), 200)"
   ]
  },
  {
   "cell_type": "code",
   "execution_count": 4,
   "metadata": {},
   "outputs": [
    {
     "name": "stdout",
     "output_type": "stream",
     "text": [
      "SingletonChild.__new__ called\n",
      "Singleton.__new__ called\n",
      "SingletonChild.__init__ called\n",
      "SingletonChild.__new__ called\n",
      "Singleton.__new__ called\n",
      "SingletonChild.__init__ called\n",
      "True\n",
      "2025-01-06 11:20:37.685521\n",
      "2025-01-06 11:20:37.685521\n"
     ]
    }
   ],
   "source": [
    "import datetime\n",
    "\n",
    "class Singleton:\n",
    "    _instance = None\n",
    "\n",
    "    def __new__(cls, *args, **kwargs):\n",
    "        print(\"Singleton.__new__ called\")\n",
    "        if cls._instance is None:\n",
    "            cls._instance = super().__new__(cls)\n",
    "        return cls._instance\n",
    "\n",
    "\n",
    "class SingletonChild(Singleton):\n",
    "    def __new__(cls, *args, **kwargs):\n",
    "        print(\"SingletonChild.__new__ called\")\n",
    "        return super().__new__(cls)\n",
    "    \n",
    "    def __init__(self):\n",
    "        print(\"SingletonChild.__init__ called\")\n",
    "        self.data = \"SingletonChild data\"\n",
    "        self.time = datetime.datetime.now()\n",
    "\n",
    "\n",
    "obj1 = SingletonChild()\n",
    "obj2 = SingletonChild()\n",
    "print(obj1 is obj2)  # True\n",
    "print(obj1.time)  # SingletonChild data\n",
    "print(obj2.time)  # SingletonChild data\n"
   ]
  },
  {
   "cell_type": "code",
   "execution_count": 5,
   "metadata": {},
   "outputs": [
    {
     "name": "stdout",
     "output_type": "stream",
     "text": [
      "class attribute...\n",
      "initial...\n",
      "---------\n",
      "in __getattribute__\n",
      "55\n",
      "in __getattribute__\n",
      "in __getattr__\n",
      "100\n",
      "in __getattribute__\n",
      "func function\n",
      "66\n"
     ]
    },
    {
     "data": {
      "text/plain": [
       "'\\nclass attribute...\\ninitial...\\nin __getattribute__\\n55\\nin __getattribute__\\nin __getattr__\\n100\\nin __getattribute__\\nfunc function\\n66\\n'"
      ]
     },
     "execution_count": 5,
     "metadata": {},
     "output_type": "execute_result"
    }
   ],
   "source": [
    "class A:\n",
    "    x = 66\n",
    "    print(\"class attribute...\")\n",
    "\n",
    "    def __init__(self, x):\n",
    "        self.x = x # 赋值语句左边不会调用__getattribute__\n",
    "        print(\"initial...\")\n",
    "\n",
    "    def func(self):\n",
    "        return \"func function\"\n",
    "    \n",
    "    def __getattr__(self, item):\n",
    "        print(\"in __getattr__\")\n",
    "        return 100\n",
    "    \n",
    "    def __getattribute__(self, item):\n",
    "        print(\"in __getattribute__\")\n",
    "        return super().__getattribute__(item)\n",
    "    \n",
    "a = A(10)\n",
    "a.x = 55\n",
    "print(\"---------\")\n",
    "print(a.x)\n",
    "print(a.y)\n",
    "print(a.func())\n",
    "print(A.x) # 类调用不会触发__getattribute__和__getattr__方法\n",
    "\n",
    "\"\"\"\n",
    "class attribute...\n",
    "initial...\n",
    "---------\n",
    "in __getattribute__\n",
    "55\n",
    "in __getattribute__\n",
    "in __getattr__\n",
    "100\n",
    "in __getattribute__\n",
    "func function\n",
    "66\n",
    "\"\"\""
   ]
  },
  {
   "cell_type": "markdown",
   "metadata": {},
   "source": [
    "Exception"
   ]
  },
  {
   "cell_type": "code",
   "execution_count": null,
   "metadata": {},
   "outputs": [],
   "source": [
    "try:\n",
    "    pass\n",
    "except (Exception, ValueError, TypeError) as e:\n",
    "    pass\n",
    "else:\n",
    "    pass # 没有异常发生时执行的代码块\n",
    "finally:\n",
    "    pass # 无论是否发生异常，都会执行的代码块"
   ]
  },
  {
   "cell_type": "code",
   "execution_count": 4,
   "metadata": {},
   "outputs": [
    {
     "name": "stdout",
     "output_type": "stream",
     "text": [
      "B\n",
      "C\n",
      "D\n"
     ]
    }
   ],
   "source": [
    "class B(Exception):\n",
    "    pass\n",
    "\n",
    "class C(B):pass\n",
    "\n",
    "class D(C):pass\n",
    "\n",
    "for cls in [B, C, D]:\n",
    "    try:\n",
    "        raise cls()\n",
    "    except D:\n",
    "        print(\"D\")\n",
    "    except C:\n",
    "        print(\"C\")\n",
    "    except B:\n",
    "        print(\"B\")\n",
    "\n",
    "\"\"\"\n",
    "B\n",
    "C\n",
    "D\n",
    "\"\"\""
   ]
  },
  {
   "cell_type": "code",
   "execution_count": 5,
   "metadata": {},
   "outputs": [
    {
     "name": "stdout",
     "output_type": "stream",
     "text": [
      "An exception flew by!\n"
     ]
    },
    {
     "ename": "NameError",
     "evalue": "HiThere",
     "output_type": "error",
     "traceback": [
      "\u001b[1;31m---------------------------------------------------------------------------\u001b[0m",
      "\u001b[1;31mNameError\u001b[0m                                 Traceback (most recent call last)",
      "Cell \u001b[1;32mIn[5], line 2\u001b[0m\n\u001b[0;32m      1\u001b[0m \u001b[38;5;28;01mtry\u001b[39;00m:\n\u001b[1;32m----> 2\u001b[0m     \u001b[38;5;28;01mraise\u001b[39;00m \u001b[38;5;167;01mNameError\u001b[39;00m(\u001b[38;5;124m\"\u001b[39m\u001b[38;5;124mHiThere\u001b[39m\u001b[38;5;124m\"\u001b[39m)\n\u001b[0;32m      3\u001b[0m \u001b[38;5;28;01mexcept\u001b[39;00m \u001b[38;5;167;01mNameError\u001b[39;00m:\n\u001b[0;32m      4\u001b[0m     \u001b[38;5;28mprint\u001b[39m(\u001b[38;5;124m\"\u001b[39m\u001b[38;5;124mAn exception flew by!\u001b[39m\u001b[38;5;124m\"\u001b[39m)\n",
      "\u001b[1;31mNameError\u001b[0m: HiThere"
     ]
    }
   ],
   "source": [
    "try:\n",
    "    raise NameError(\"HiThere\")\n",
    "except NameError:\n",
    "    print(\"An exception flew by!\")\n",
    "    raise # re-raise the exception"
   ]
  },
  {
   "cell_type": "code",
   "execution_count": 9,
   "metadata": {},
   "outputs": [
    {
     "ename": "RuntimeError",
     "evalue": "",
     "output_type": "error",
     "traceback": [
      "\u001b[1;31m---------------------------------------------------------------------------\u001b[0m",
      "\u001b[1;31mRuntimeError\u001b[0m                              Traceback (most recent call last)",
      "Cell \u001b[1;32mIn[9], line 4\u001b[0m\n\u001b[0;32m      2\u001b[0m     \u001b[38;5;28mopen\u001b[39m(\u001b[38;5;124m\"\u001b[39m\u001b[38;5;124mdatabase.sqlite\u001b[39m\u001b[38;5;124m\"\u001b[39m)\n\u001b[0;32m      3\u001b[0m \u001b[38;5;28;01mexcept\u001b[39;00m \u001b[38;5;167;01mOSError\u001b[39;00m:\n\u001b[1;32m----> 4\u001b[0m     \u001b[38;5;28;01mraise\u001b[39;00m \u001b[38;5;167;01mRuntimeError\u001b[39;00m \u001b[38;5;28;01mfrom\u001b[39;00m \u001b[38;5;28;01mNone\u001b[39;00m\n",
      "\u001b[1;31mRuntimeError\u001b[0m: "
     ]
    }
   ],
   "source": [
    "try:\n",
    "    open(\"database.sqlite\")\n",
    "except OSError:\n",
    "    raise RuntimeError from None\n",
    "\n",
    "\"\"\"\n",
    "---------------------------------------------------------------------------\n",
    "RuntimeError                              Traceback (most recent call last)\n",
    "Cell In[9], line 4\n",
    "      2     open(\"database.sqlite\")\n",
    "      3 except OSError:\n",
    "----> 4     raise RuntimeError from None\n",
    "\n",
    "RuntimeError:\n",
    "\"\"\""
   ]
  },
  {
   "cell_type": "markdown",
   "metadata": {},
   "source": [
    "Other"
   ]
  },
  {
   "cell_type": "code",
   "execution_count": 6,
   "metadata": {},
   "outputs": [
    {
     "name": "stdout",
     "output_type": "stream",
     "text": [
      "__main__\n"
     ]
    }
   ],
   "source": [
    "print(__name__)"
   ]
  },
  {
   "cell_type": "code",
   "execution_count": null,
   "metadata": {},
   "outputs": [
    {
     "name": "stdout",
     "output_type": "stream",
     "text": [
      "{'John': ['name'], 25: ['age'], 'New York': ['city', 'city2']}\n"
     ]
    }
   ],
   "source": [
    "dict1 = {'name': 'John', 'age': 25, 'city': 'New York', 'city2': 'New York'}\n",
    "output_dict = {}\n",
    "for key, value in dict1.items():\n",
    "    # print(key, value)\n",
    "    # 直接遍历字典时，默认只会遍历字典的键（key），而不是键值对（key-value pairs）\n",
    "    if value not in output_dict:\n",
    "        output_dict[value] = [key]\n",
    "    else:\n",
    "        output_dict[value].append(key)\n",
    "print(output_dict)\n",
    "\n"
   ]
  },
  {
   "cell_type": "code",
   "execution_count": 6,
   "metadata": {},
   "outputs": [
    {
     "name": "stdout",
     "output_type": "stream",
     "text": [
      "[1, 2, 5, 4, 6, 3, 7, 8, 9, 10]\n",
      "[1, 2, 3, 4, 5, 6, 7, 8, 9, 10]\n",
      "<class 'list_reverseiterator'>\n",
      "10\n",
      "9\n",
      "8\n",
      "7\n",
      "3\n",
      "6\n",
      "4\n",
      "5\n",
      "2\n",
      "1\n"
     ]
    }
   ],
   "source": [
    "list1 = [1, 2, 5, 4, 6, 3, 7, 8, 9, 10]\n",
    "list2 = sorted(list1)\n",
    "print(list1)\n",
    "print(list2)\n",
    "iter3 = reversed(list1)\n",
    "print(type(iter3))\n",
    "for i in iter3:\n",
    "    print(i)"
   ]
  }
 ],
 "metadata": {
  "kernelspec": {
   "display_name": "venv",
   "language": "python",
   "name": "python3"
  },
  "language_info": {
   "codemirror_mode": {
    "name": "ipython",
    "version": 3
   },
   "file_extension": ".py",
   "mimetype": "text/x-python",
   "name": "python",
   "nbconvert_exporter": "python",
   "pygments_lexer": "ipython3",
   "version": "3.12.4"
  }
 },
 "nbformat": 4,
 "nbformat_minor": 2
}
